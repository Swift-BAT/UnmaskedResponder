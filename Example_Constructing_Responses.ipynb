{
 "cells": [
  {
   "cell_type": "code",
   "execution_count": 9,
   "metadata": {},
   "outputs": [],
   "source": [
    "import pytest\n",
    "import numpy as np\n",
    "from astropy.io import fits\n",
    "import os\n",
    "import os\n",
    "import numpy as np\n",
    "import nitrates_response as nr"
   ]
  },
  {
   "cell_type": "code",
   "execution_count": 10,
   "metadata": {},
   "outputs": [],
   "source": [
    "def get_bldmask_alldets():\n",
    "\n",
    "    detxs_by_sand0 = np.arange(0, 286-15, 18)\n",
    "    detxs_by_sand1 = detxs_by_sand0 + 15\n",
    "\n",
    "    detys_by_sand0 = np.arange(0, 173-7, 11)\n",
    "    detys_by_sand1 = detys_by_sand0 + 7\n",
    "\n",
    "    all_good_detxs = np.ravel([np.arange(detxs_by_sand0[i], detxs_by_sand1[i]+1,\\\n",
    "                                          1, dtype=np.int) for i in range(16)])\n",
    "    all_good_detys = np.ravel([np.arange(detys_by_sand0[i], detys_by_sand1[i]+1,\\\n",
    "                                         1, dtype=np.int) for i in range(16)])\n",
    "\n",
    "    detxax = np.arange(286, dtype=np.int)\n",
    "    detyax = np.arange(173, dtype=np.int)\n",
    "    detx_dpi, dety_dpi = np.meshgrid(detxax, detyax)\n",
    "    bl_alldets = np.isin(detx_dpi, all_good_detxs)&np.isin(dety_dpi, all_good_detys)\n",
    "    return bl_alldets\n"
   ]
  },
  {
   "attachments": {},
   "cell_type": "markdown",
   "metadata": {},
   "source": [
    "Constructing the energy bins for the responses and storing them as ebins, with values ranging from 15.0keV up to 500keV. The values in ebins0 represent the lower ends of each energy bin and ebins1 the upper ends."
   ]
  },
  {
   "cell_type": "code",
   "execution_count": 11,
   "metadata": {},
   "outputs": [],
   "source": [
    "ebins0 = np.array([15.0, 24.0, 35.0, 48.0, 64.0])\n",
    "ebins0 = np.append(ebins0, np.logspace(np.log10(84.0), np.log10(500.0), 5+1))[:-1]\n",
    "ebins0 = np.round(ebins0, decimals=1)[:-1]\n",
    "ebins1 = np.append(ebins0[1:], [350.0])\n",
    "ebins = [ebins0, ebins1]"
   ]
  },
  {
   "attachments": {},
   "cell_type": "markdown",
   "metadata": {},
   "source": [
    "We'll gather the response using the following values for the theta and phi positions."
   ]
  },
  {
   "cell_type": "code",
   "execution_count": 12,
   "metadata": {},
   "outputs": [],
   "source": [
    "th = 0.\n",
    "ph = 0."
   ]
  },
  {
   "attachments": {},
   "cell_type": "markdown",
   "metadata": {},
   "source": [
    "In order to generate the response, we have to initialize a flux model based on a cutoff power law flux model in addition to a RayTraces object, rt_obj."
   ]
  },
  {
   "cell_type": "code",
   "execution_count": 13,
   "metadata": {},
   "outputs": [
    {
     "name": "stderr",
     "output_type": "stream",
     "text": [
      "/var/folders/_4/y52q1x_130bg2r9mb5ctl5340000gn/T/ipykernel_64979/587707886.py:10: DeprecationWarning: `np.int` is a deprecated alias for the builtin `int`. To silence this warning, use `int` by itself. Doing this will not modify any behavior and is safe. When replacing `np.int`, you may wish to use e.g. `np.int64` or `np.int32` to specify the precision. If you wish to review your current use, check the release note link for additional information.\n",
      "Deprecated in NumPy 1.20; for more details and guidance: https://numpy.org/devdocs/release/1.20.0-notes.html#deprecations\n",
      "  1, dtype=np.int) for i in range(16)])\n",
      "/var/folders/_4/y52q1x_130bg2r9mb5ctl5340000gn/T/ipykernel_64979/587707886.py:12: DeprecationWarning: `np.int` is a deprecated alias for the builtin `int`. To silence this warning, use `int` by itself. Doing this will not modify any behavior and is safe. When replacing `np.int`, you may wish to use e.g. `np.int64` or `np.int32` to specify the precision. If you wish to review your current use, check the release note link for additional information.\n",
      "Deprecated in NumPy 1.20; for more details and guidance: https://numpy.org/devdocs/release/1.20.0-notes.html#deprecations\n",
      "  1, dtype=np.int) for i in range(16)])\n",
      "/var/folders/_4/y52q1x_130bg2r9mb5ctl5340000gn/T/ipykernel_64979/587707886.py:14: DeprecationWarning: `np.int` is a deprecated alias for the builtin `int`. To silence this warning, use `int` by itself. Doing this will not modify any behavior and is safe. When replacing `np.int`, you may wish to use e.g. `np.int64` or `np.int32` to specify the precision. If you wish to review your current use, check the release note link for additional information.\n",
      "Deprecated in NumPy 1.20; for more details and guidance: https://numpy.org/devdocs/release/1.20.0-notes.html#deprecations\n",
      "  detxax = np.arange(286, dtype=np.int)\n",
      "/var/folders/_4/y52q1x_130bg2r9mb5ctl5340000gn/T/ipykernel_64979/587707886.py:15: DeprecationWarning: `np.int` is a deprecated alias for the builtin `int`. To silence this warning, use `int` by itself. Doing this will not modify any behavior and is safe. When replacing `np.int`, you may wish to use e.g. `np.int64` or `np.int32` to specify the precision. If you wish to review your current use, check the release note link for additional information.\n",
      "Deprecated in NumPy 1.20; for more details and guidance: https://numpy.org/devdocs/release/1.20.0-notes.html#deprecations\n",
      "  detyax = np.arange(173, dtype=np.int)\n"
     ]
    }
   ],
   "source": [
    "flux_mod = nr.models.flux_models.Cutoff_Plaw_Flux(E0=100.0)\n",
    "bl_alldets = get_bldmask_alldets()\n",
    "rt_obj = nr.response.ray_trace_funcs.RayTraces(nr.config.rt_dir)"
   ]
  },
  {
   "attachments": {},
   "cell_type": "markdown",
   "metadata": {},
   "source": [
    "With the above defined, we can now initiate our signal model using the Source_Model_InOutFoV object from the models.py module. "
   ]
  },
  {
   "cell_type": "code",
   "execution_count": 14,
   "metadata": {},
   "outputs": [],
   "source": [
    "sig_mod = nr.models.models.Source_Model_InOutFoV(flux_mod, ebins,\\\n",
    "                                        bl_alldets, rt_obj, use_deriv=True,\\\n",
    "                                        resp_tab_dname=nr.config.resp_tabs)"
   ]
  },
  {
   "attachments": {},
   "cell_type": "markdown",
   "metadata": {},
   "source": [
    "We must run .set_theta_phi() using the values of *th* and *ph* in order to generate the appropriate response for our desired coordinates. With the coordinates set, we can calculate the total response dpi."
   ]
  },
  {
   "cell_type": "code",
   "execution_count": 15,
   "metadata": {},
   "outputs": [
    {
     "name": "stdout",
     "output_type": "stream",
     "text": [
      "(0.0, 30.48, -14.117)\n",
      "(0.0, 30.48, -14.117)\n",
      "(0.0, 3.0)\n",
      "0.0\n",
      "0.0\n",
      "max rt: 1.0000\n",
      "initing ResponseDPI, with fname\n",
      "/Users/daniel/Development/Astronomy/UnmaskedResponder/resp_tabs/drm_theta_0.0_phi_0.0_.fits\n"
     ]
    }
   ],
   "source": [
    "sig_mod.set_theta_phi(th, ph)\n",
    "tot_resp_dpis = sig_mod.resp_obj.lines_resp_dpi + sig_mod.resp_obj.comp_flor_resp_dpis"
   ]
  },
  {
   "cell_type": "code",
   "execution_count": 16,
   "metadata": {},
   "outputs": [
    {
     "data": {
      "text/plain": [
       "array([[[1.07772476e-04, 0.00000000e+00, 0.00000000e+00, ...,\n",
       "         0.00000000e+00, 0.00000000e+00, 0.00000000e+00],\n",
       "        [8.92803152e-04, 0.00000000e+00, 0.00000000e+00, ...,\n",
       "         0.00000000e+00, 0.00000000e+00, 0.00000000e+00],\n",
       "        [4.37674939e-03, 0.00000000e+00, 0.00000000e+00, ...,\n",
       "         0.00000000e+00, 0.00000000e+00, 0.00000000e+00],\n",
       "        ...,\n",
       "        [1.78259835e-04, 2.66266596e-04, 3.09591165e-04, ...,\n",
       "         1.04871326e-03, 1.46304546e-03, 2.00889555e-03],\n",
       "        [1.08136724e-04, 1.68412922e-04, 1.94899718e-04, ...,\n",
       "         7.93911238e-04, 1.14881267e-03, 1.60499934e-03],\n",
       "        [7.33258100e-05, 1.17401120e-04, 1.29014299e-04, ...,\n",
       "         5.75196290e-04, 8.39456518e-04, 1.17993682e-03]],\n",
       "\n",
       "       [[1.08845206e-04, 0.00000000e+00, 0.00000000e+00, ...,\n",
       "         0.00000000e+00, 0.00000000e+00, 0.00000000e+00],\n",
       "        [9.01689805e-04, 0.00000000e+00, 0.00000000e+00, ...,\n",
       "         0.00000000e+00, 0.00000000e+00, 0.00000000e+00],\n",
       "        [4.42031403e-03, 0.00000000e+00, 0.00000000e+00, ...,\n",
       "         0.00000000e+00, 0.00000000e+00, 0.00000000e+00],\n",
       "        ...,\n",
       "        [1.78325506e-04, 2.66359330e-04, 3.09706040e-04, ...,\n",
       "         1.04915698e-03, 1.46366448e-03, 2.00974552e-03],\n",
       "        [1.08168660e-04, 1.68458392e-04, 1.94959913e-04, ...,\n",
       "         7.94184305e-04, 1.14920781e-03, 1.60555138e-03],\n",
       "        [7.33468301e-05, 1.17429745e-04, 1.29051903e-04, ...,\n",
       "         5.75401380e-04, 8.39755833e-04, 1.18035754e-03]],\n",
       "\n",
       "       [[1.34300426e-04, 0.00000000e+00, 0.00000000e+00, ...,\n",
       "         0.00000000e+00, 0.00000000e+00, 0.00000000e+00],\n",
       "        [1.11256462e-03, 0.00000000e+00, 0.00000000e+00, ...,\n",
       "         0.00000000e+00, 0.00000000e+00, 0.00000000e+00],\n",
       "        [5.45407628e-03, 0.00000000e+00, 0.00000000e+00, ...,\n",
       "         0.00000000e+00, 0.00000000e+00, 0.00000000e+00],\n",
       "        ...,\n",
       "        [1.79883827e-04, 2.68559848e-04, 3.12431955e-04, ...,\n",
       "         1.05968604e-03, 1.47835343e-03, 2.02991479e-03],\n",
       "        [1.08926484e-04, 1.69537368e-04, 1.96388300e-04, ...,\n",
       "         8.00664022e-04, 1.15858415e-03, 1.61865101e-03],\n",
       "        [7.38456249e-05, 1.18109003e-04, 1.29944232e-04, ...,\n",
       "         5.80268056e-04, 8.46858387e-04, 1.19034086e-03]],\n",
       "\n",
       "       ...,\n",
       "\n",
       "       [[3.78491770e-05, 0.00000000e+00, 0.00000000e+00, ...,\n",
       "         0.00000000e+00, 0.00000000e+00, 0.00000000e+00],\n",
       "        [3.11668371e-04, 0.00000000e+00, 0.00000000e+00, ...,\n",
       "         0.00000000e+00, 0.00000000e+00, 0.00000000e+00],\n",
       "        [1.53694227e-03, 0.00000000e+00, 0.00000000e+00, ...,\n",
       "         0.00000000e+00, 0.00000000e+00, 0.00000000e+00],\n",
       "        ...,\n",
       "        [1.78318868e-04, 2.70388199e-04, 3.11029149e-04, ...,\n",
       "         1.04130700e-03, 1.44851378e-03, 1.97100842e-03],\n",
       "        [1.09503637e-04, 1.68641026e-04, 1.99695545e-04, ...,\n",
       "         7.75795119e-04, 1.12145903e-03, 1.56534746e-03],\n",
       "        [7.15330502e-05, 1.22441104e-04, 1.33356254e-04, ...,\n",
       "         5.61985462e-04, 8.20562308e-04, 1.15517644e-03]],\n",
       "\n",
       "       [[1.40183009e-04, 0.00000000e+00, 0.00000000e+00, ...,\n",
       "         0.00000000e+00, 0.00000000e+00, 0.00000000e+00],\n",
       "        [1.15433448e-03, 0.00000000e+00, 0.00000000e+00, ...,\n",
       "         0.00000000e+00, 0.00000000e+00, 0.00000000e+00],\n",
       "        [5.69241420e-03, 0.00000000e+00, 0.00000000e+00, ...,\n",
       "         0.00000000e+00, 0.00000000e+00, 0.00000000e+00],\n",
       "        ...,\n",
       "        [1.84754473e-04, 2.79469965e-04, 3.22270359e-04, ...,\n",
       "         1.08445396e-03, 1.50853351e-03, 2.05267793e-03],\n",
       "        [1.12546538e-04, 1.72973852e-04, 2.05431751e-04, ...,\n",
       "         8.01788897e-04, 1.15903462e-03, 1.61779597e-03],\n",
       "        [7.35347108e-05, 1.25167030e-04, 1.36937355e-04, ...,\n",
       "         5.81521894e-04, 8.49087707e-04, 1.19533411e-03]],\n",
       "\n",
       "       [[1.93121843e-61, 0.00000000e+00, 0.00000000e+00, ...,\n",
       "         0.00000000e+00, 0.00000000e+00, 0.00000000e+00],\n",
       "        [6.37232189e-49, 0.00000000e+00, 0.00000000e+00, ...,\n",
       "         0.00000000e+00, 0.00000000e+00, 0.00000000e+00],\n",
       "        [1.17348801e-39, 0.00000000e+00, 0.00000000e+00, ...,\n",
       "         0.00000000e+00, 0.00000000e+00, 0.00000000e+00],\n",
       "        ...,\n",
       "        [1.77231851e-04, 2.68920492e-04, 3.09494228e-04, ...,\n",
       "         1.04308833e-03, 1.44740340e-03, 1.96280610e-03],\n",
       "        [1.10701516e-04, 1.70327364e-04, 2.01925818e-04, ...,\n",
       "         7.88161982e-04, 1.13970570e-03, 1.58491696e-03],\n",
       "        [7.02240300e-05, 1.20655233e-04, 1.31006512e-04, ...,\n",
       "         5.49379170e-04, 8.02320476e-04, 1.12819360e-03]]])"
      ]
     },
     "execution_count": 16,
     "metadata": {},
     "output_type": "execute_result"
    }
   ],
   "source": [
    "tot_resp_dpis"
   ]
  }
 ],
 "metadata": {
  "kernelspec": {
   "display_name": "UnmaskedResponder_venv_kernel",
   "language": "python",
   "name": "unmaskedresponder_venv"
  },
  "language_info": {
   "codemirror_mode": {
    "name": "ipython",
    "version": 3
   },
   "file_extension": ".py",
   "mimetype": "text/x-python",
   "name": "python",
   "nbconvert_exporter": "python",
   "pygments_lexer": "ipython3",
   "version": "3.9.12"
  }
 },
 "nbformat": 4,
 "nbformat_minor": 4
}
